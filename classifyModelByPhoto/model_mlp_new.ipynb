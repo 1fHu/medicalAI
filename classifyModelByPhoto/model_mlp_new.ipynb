{
 "cells": [
  {
   "cell_type": "code",
   "execution_count": 15,
   "id": "da346d07",
   "metadata": {},
   "outputs": [],
   "source": [
    "from pathlib import Path\n",
    "import numpy as np\n",
    "import pandas as pd\n",
    "import torch\n",
    "import torch.nn as nn\n",
    "import torch.nn.functional as F\n",
    "from torch.utils.data import Dataset, DataLoader, Subset\n",
    "import random\n",
    "import shap\n",
    "import matplotlib.pyplot as plt"
   ]
  },
  {
   "cell_type": "code",
   "execution_count": 11,
   "id": "d1d8ffb8",
   "metadata": {},
   "outputs": [],
   "source": [
    "class CellGroupDataset(Dataset):\n",
    "    def __init__(self, data, labels):\n",
    "        self.data = []\n",
    "        for group in data:\n",
    "            group_tensor = []\n",
    "            for cell in group:\n",
    "                feature = np.concatenate([cell[0].flatten(), cell[1].flatten()])  # (45,)\n",
    "                group_tensor.append(torch.tensor(feature, dtype=torch.float32))\n",
    "            self.data.append(torch.stack(group_tensor))  # shape: [11, 45]\n",
    "        self.labels = torch.tensor(labels, dtype=torch.long)\n",
    "\n",
    "    def __len__(self):\n",
    "        return len(self.data)\n",
    "    \n",
    "    def __getitem__(self, idx):\n",
    "        return self.data[idx], self.labels[idx]"
   ]
  },
  {
   "cell_type": "code",
   "execution_count": 12,
   "id": "ccb2da51",
   "metadata": {},
   "outputs": [],
   "source": [
    "\n",
    "# 加载数据\n",
    "raw_data = np.load(\"dataset_first.npy\", allow_pickle=True)\n",
    "float_labels = [1, 0, 0.5, 0, 0.5, 0.5]\n",
    "\n",
    "label_map = {0.0: 0, 0.5: 1, 1.0: 2}\n",
    "labels = [label_map[val] for val in float_labels]\n",
    "dataset = CellGroupDataset(raw_data, labels)"
   ]
  },
  {
   "cell_type": "code",
   "execution_count": 13,
   "id": "db306353",
   "metadata": {},
   "outputs": [],
   "source": [
    "class SetNetClassifier(nn.Module):\n",
    "    def __init__(self, \n",
    "                 input_dim=45 * 8,          # 每个细胞的特征维度\n",
    "                 hidden_dim=128,        # 细胞特征编码后的维度\n",
    "                 classifier_hidden=128, # MLP中间层\n",
    "                 output_dim=3):         # 类别数（分类）\n",
    "        super().__init__()\n",
    "\n",
    "        # Set Encoder: 对每个细胞特征进行变换\n",
    "        # self.encoder = nn.Sequential(\n",
    "        #     nn.Linear(input_dim, hidden_dim),\n",
    "        #     nn.ReLU(),\n",
    "        #     nn.Linear(hidden_dim, hidden_dim)\n",
    "        # )\n",
    "\n",
    "        # 分类器 MLP\n",
    "        self.classifier = nn.Sequential(\n",
    "           \n",
    "            nn.Linear(input_dim, classifier_hidden),\n",
    "            nn.ReLU(),\n",
    "            nn.Linear(classifier_hidden, output_dim)\n",
    "            # add softmax\n",
    "        )\n",
    "    \n",
    "    def forward(self, batch_cells):\n",
    "        \"\"\"\n",
    "        batch_cells: list of tensors, each of shape [8, 45]\n",
    "        return: logits tensor of shape [B, 3]\n",
    "        \"\"\"\n",
    "        logits_list = []\n",
    "\n",
    "        for cells in batch_cells:  # 每一组细胞\n",
    "            # z = self.encoder(cells)               # [N, hidden_dim]\n",
    "\n",
    "            flat = cells.flatten() \n",
    "            logits = self.classifier(flat)            # [3]\n",
    "            logits_list.append(logits)\n",
    "\n",
    "        return torch.stack(logits_list)  # [B, 3]        "
   ]
  },
  {
   "cell_type": "code",
   "execution_count": 14,
   "id": "a20ee44c",
   "metadata": {},
   "outputs": [
    {
     "name": "stdout",
     "output_type": "stream",
     "text": [
      "Epoch 1 | Loss: 8742.1650 | Test Accuracy: 50.00%\n",
      "Epoch 2 | Loss: 420914.0625 | Test Accuracy: 50.00%\n",
      "Epoch 3 | Loss: 125624.9375 | Test Accuracy: 50.00%\n",
      "Epoch 4 | Loss: 0.0000 | Test Accuracy: 50.00%\n",
      "Epoch 5 | Loss: 0.0000 | Test Accuracy: 50.00%\n",
      "Epoch 6 | Loss: 46718.1094 | Test Accuracy: 0.00%\n",
      "Epoch 7 | Loss: 1743.3209 | Test Accuracy: 50.00%\n",
      "Epoch 8 | Loss: 1216.3971 | Test Accuracy: 100.00%\n",
      "Epoch 9 | Loss: 637.4739 | Test Accuracy: 50.00%\n",
      "Epoch 10 | Loss: 0.0000 | Test Accuracy: 50.00%\n"
     ]
    }
   ],
   "source": [
    "model = SetNetClassifier()\n",
    "optimizer = torch.optim.Adam(model.parameters(), lr=0.001)\n",
    "loss_fn = nn.CrossEntropyLoss()\n",
    "\n",
    "num_epochs = 10\n",
    "all_indices = list(range(len(dataset)))\n",
    "\n",
    "for epoch in range(num_epochs):\n",
    "    # 随机划分 2 个测试样本，剩下用于训练\n",
    "    test_indices = random.sample(all_indices, 2)\n",
    "    train_indices = list(set(all_indices) - set(test_indices))\n",
    "\n",
    "    train_loader = DataLoader(Subset(dataset, train_indices), batch_size=2, shuffle=True)\n",
    "    test_loader = DataLoader(Subset(dataset, test_indices), batch_size=2)\n",
    "\n",
    "    # === 训练 ===\n",
    "    model.train()\n",
    "    for batch_x, batch_y in train_loader:\n",
    "        logits = model(batch_x)\n",
    "        loss = loss_fn(logits, batch_y)\n",
    "\n",
    "        optimizer.zero_grad()\n",
    "        loss.backward()\n",
    "        optimizer.step()\n",
    "\n",
    "    # === 测试 ===\n",
    "    model.eval()\n",
    "    correct = 0\n",
    "    total = 0\n",
    "    with torch.no_grad():\n",
    "        for batch_x, batch_y in test_loader:\n",
    "            logits = model(batch_x)\n",
    "            pred = torch.argmax(logits, dim=1)\n",
    "            correct += (pred == batch_y).sum().item()\n",
    "            total += batch_y.size(0)\n",
    "    \n",
    "    acc = correct / total\n",
    "    print(f\"Epoch {epoch+1} | Loss: {loss.item():.4f} | Test Accuracy: {acc*100:.2f}%\")\n",
    "    \n",
    "    "
   ]
  },
  {
   "cell_type": "code",
   "execution_count": 16,
   "id": "ca1f57eb",
   "metadata": {},
   "outputs": [],
   "source": [
    "torch.save(model.state_dict(), 'model.pt')"
   ]
  },
  {
   "cell_type": "code",
   "execution_count": null,
   "id": "b9c80fb3",
   "metadata": {},
   "outputs": [],
   "source": []
  },
  {
   "cell_type": "code",
   "execution_count": null,
   "id": "25402a9c",
   "metadata": {},
   "outputs": [],
   "source": []
  }
 ],
 "metadata": {
  "kernelspec": {
   "display_name": "base",
   "language": "python",
   "name": "python3"
  },
  "language_info": {
   "codemirror_mode": {
    "name": "ipython",
    "version": 3
   },
   "file_extension": ".py",
   "mimetype": "text/x-python",
   "name": "python",
   "nbconvert_exporter": "python",
   "pygments_lexer": "ipython3",
   "version": "3.11.7"
  }
 },
 "nbformat": 4,
 "nbformat_minor": 5
}
