{
 "cells": [
  {
   "cell_type": "markdown",
   "id": "6fe9b3a4",
   "metadata": {},
   "source": [
    "Library import"
   ]
  },
  {
   "cell_type": "code",
   "execution_count": 12,
   "id": "ed413e54",
   "metadata": {},
   "outputs": [],
   "source": [
    "import shutil\n",
    "import random\n",
    "from pathlib import Path\n",
    "import os\n",
    "import cv2\n",
    "import numpy as np\n",
    "import torch\n",
    "import torch.nn as nn\n",
    "from torch.utils.data import Dataset, DataLoader\n",
    "import torch.optim as optim\n",
    "from sklearn.model_selection import train_test_split"
   ]
  },
  {
   "cell_type": "markdown",
   "id": "f20a9b03",
   "metadata": {},
   "source": [
    "Data Prepare"
   ]
  },
  {
   "cell_type": "code",
   "execution_count": 13,
   "id": "406c1eca",
   "metadata": {},
   "outputs": [
    {
     "name": "stdout",
     "output_type": "stream",
     "text": [
      "Data splitting completed!\n"
     ]
    }
   ],
   "source": [
    "source_dir = 'E:\\\\NYU\\\\pencreatic cancer AI\\\\activeTest\\\\sourceData'\n",
    "output_dir = 'E:\\\\NYU\\\\pencreatic cancer AI\\\\activeTest\\\\modelUseData'\n",
    "train_ratio = 0.7\n",
    "val_ratio = 0\n",
    "test_ratio = 0.3\n",
    "\n",
    "# prepare folders\n",
    "for split in ['train', 'val', 'test']:\n",
    "    for label in ['Images 0', 'Images 1']:\n",
    "        Path(f\"{output_dir}/{split}/{label}\").mkdir(parents=True, exist_ok=True)\n",
    "\n",
    "\n",
    "for label in ['Images 0', 'Images 1']:\n",
    "    files = os.listdir(os.path.join(source_dir, label))\n",
    "    shuffled_files = random.sample(files, len(files))\n",
    "    \n",
    "    total = len(shuffled_files)\n",
    "    train_end = int(total * train_ratio)\n",
    "    val_end = train_end + int(total * val_ratio)\n",
    "\n",
    "    split_files = {\n",
    "        'train': shuffled_files[:train_end],\n",
    "        'val': shuffled_files[train_end:val_end],\n",
    "        'test': shuffled_files[val_end:]\n",
    "    }\n",
    "\n",
    "    # copy file\n",
    "    for split, file_list in split_files.items():\n",
    "        for file in file_list:\n",
    "            src = os.path.join(source_dir, label, file)\n",
    "            dst = os.path.join(output_dir, split, label, file)\n",
    "            shutil.copy(src, dst)\n",
    "\n",
    "print(\"Data splitting completed!\")"
   ]
  },
  {
   "cell_type": "markdown",
   "id": "a81f5ef7",
   "metadata": {},
   "source": [
    "Extract Feature"
   ]
  },
  {
   "cell_type": "code",
   "execution_count": 14,
   "id": "4afce74d",
   "metadata": {},
   "outputs": [
    {
     "name": "stdout",
     "output_type": "stream",
     "text": [
      "here\n",
      "add one seq\n",
      "here\n",
      "add one seq\n",
      "here\n",
      "add one seq\n",
      "here\n",
      "add one seq\n"
     ]
    }
   ],
   "source": [
    "def extract_cell_features_sequence(folder_path):\n",
    "    features_sequence = []\n",
    "    image_files = sorted(os.listdir(folder_path))  # time order\n",
    "\n",
    "    print(\"here\")\n",
    "    for fname in image_files:\n",
    "        fpath = os.path.join(folder_path, fname)\n",
    "        gray_img = cv2.imread(fpath, cv2.IMREAD_GRAYSCALE)\n",
    "        gray_img = cv2.resize(gray_img, (256, 256))\n",
    "        _, binary_img = cv2.threshold(gray_img, 30, 255, cv2.THRESH_BINARY)\n",
    "\n",
    "        contours, _ = cv2.findContours(binary_img, cv2.RETR_EXTERNAL, cv2.CHAIN_APPROX_SIMPLE)\n",
    "        if not contours:\n",
    "            features_sequence.append([0, 0, 0])\n",
    "            continue\n",
    "\n",
    "        largest = max(contours, key=cv2.contourArea)\n",
    "        area = cv2.contourArea(largest)\n",
    "        perimeter = cv2.arcLength(largest, True)\n",
    "        circularity = (4 * np.pi * area) / (perimeter ** 2 + 1e-6)\n",
    "        mask = np.zeros_like(gray_img)\n",
    "        cv2.drawContours(mask, [largest], -1, 255, -1)\n",
    "        brightness = np.mean(gray_img[mask == 255])\n",
    "\n",
    "        features_sequence.append([area, circularity, brightness])\n",
    "\n",
    "    return np.array(features_sequence, dtype=np.float32)\n",
    "\n",
    "\n",
    "def load_sequences_from_modelUseData(root_dir):\n",
    "    \"\"\"\n",
    "    Loads time-series feature sequences and labels from modelUseData/\n",
    "    Expects: modelUseData/split/classN/cell_XXXX/\n",
    "    Returns: X_seq, y_labels\n",
    "    \"\"\"\n",
    "    X_seq = []\n",
    "    y_labels = []\n",
    "\n",
    "    for class_name, label in [('Images 0', 0), ('Images 1', 1)]:\n",
    "        class_dir = os.path.join(root_dir, class_name)\n",
    "    \n",
    "        seq = extract_cell_features_sequence(class_dir)\n",
    "        if len(seq) > 0:\n",
    "            print(\"add one seq\")\n",
    "            X_seq.append(seq)\n",
    "            y_labels.append(label)\n",
    "\n",
    "    return X_seq, y_labels\n",
    "\n",
    "\n",
    "train_root = \"E:\\\\NYU\\\\pencreatic cancer AI\\\\activeTest\\\\modelUseData\\\\train\"\n",
    "test_root = \"E:\\\\NYU\\\\pencreatic cancer AI\\\\activeTest\\\\modelUseData\\\\test\"\n",
    "\n",
    "X_train_seq, y_train_labels = load_sequences_from_modelUseData(train_root)\n",
    "X_test_seq, y_test_labels = load_sequences_from_modelUseData(test_root)"
   ]
  },
  {
   "cell_type": "markdown",
   "id": "fcb0fc7b",
   "metadata": {},
   "source": [
    "Model training"
   ]
  },
  {
   "cell_type": "code",
   "execution_count": 15,
   "id": "2a8fab99",
   "metadata": {},
   "outputs": [],
   "source": [
    "class CellSequenceDataset(Dataset):\n",
    "    def __init__(self, sequences, labels):\n",
    "        self.sequences = sequences\n",
    "        self.labels = labels\n",
    "\n",
    "    def __len__(self):\n",
    "        return len(self.sequences)\n",
    "\n",
    "    def __getitem__(self, idx):\n",
    "        return torch.tensor(self.sequences[idx], dtype=torch.float32), torch.tensor(self.labels[idx], dtype=torch.long)"
   ]
  },
  {
   "cell_type": "code",
   "execution_count": 16,
   "id": "6e29cc7b",
   "metadata": {},
   "outputs": [],
   "source": [
    "class CellLSTMClassifier(nn.Module):\n",
    "    def __init__(self, input_size=3, hidden_size=32, num_layers=1):\n",
    "        super().__init__()\n",
    "        self.lstm = nn.LSTM(input_size, hidden_size, num_layers, batch_first=True)\n",
    "        self.fc = nn.Linear(hidden_size, 2)\n",
    "\n",
    "    def forward(self, x):\n",
    "        out, _ = self.lstm(x)\n",
    "        out = out[:, -1, :]  # last timestep\n",
    "        return self.fc(out)"
   ]
  },
  {
   "cell_type": "code",
   "execution_count": 17,
   "id": "f1257aef",
   "metadata": {},
   "outputs": [],
   "source": [
    "def train_model(model, dataloader, epochs=10):\n",
    "    model.train()\n",
    "    optimizer = optim.Adam(model.parameters(), lr=1e-3)\n",
    "    criterion = nn.CrossEntropyLoss()\n",
    "\n",
    "    train_losses = []\n",
    "    train_accuracies = []\n",
    "\n",
    "    for epoch in range(epochs):\n",
    "        total_loss = 0\n",
    "        correct = 0\n",
    "        total = 0\n",
    "        for x_batch, y_batch in dataloader:\n",
    "            optimizer.zero_grad()\n",
    "            outputs = model(x_batch)\n",
    "            loss = criterion(outputs, y_batch)\n",
    "            loss.backward()\n",
    "            optimizer.step()\n",
    "            total_loss += loss.item()\n",
    "            correct += (outputs.argmax(dim=1) == y_batch).sum().item()\n",
    "            total += y_batch.size(0)\n",
    "\n",
    "        avg_loss = total_loss / len(dataloader)\n",
    "        accuracy = correct / total\n",
    "        train_losses.append(avg_loss)\n",
    "        train_accuracies.append(accuracy)\n",
    "        print(f\"Epoch {epoch+1}: Loss = {avg_loss:.4f}, Accuracy = {accuracy:.4f}\")\n",
    "\n",
    "    return train_losses, train_accuracies"
   ]
  },
  {
   "cell_type": "markdown",
   "id": "ca328d09",
   "metadata": {},
   "source": [
    "model evaluation"
   ]
  },
  {
   "cell_type": "code",
   "execution_count": 18,
   "id": "93c5ebda",
   "metadata": {},
   "outputs": [],
   "source": [
    "def evaluate_model(model, dataloader):\n",
    "    model.eval()\n",
    "    correct, total = 0, 0\n",
    "    with torch.no_grad():\n",
    "        for x_batch, y_batch in dataloader:\n",
    "            outputs = model(x_batch)\n",
    "            preds = outputs.argmax(dim=1)\n",
    "            correct += (preds == y_batch).sum().item()\n",
    "            total += y_batch.size(0)\n",
    "    print(f\"Test Accuracy: {correct / total:.4f}\")"
   ]
  },
  {
   "cell_type": "markdown",
   "id": "af5ecf41",
   "metadata": {},
   "source": [
    "main"
   ]
  },
  {
   "cell_type": "code",
   "execution_count": 19,
   "id": "bd2ed643",
   "metadata": {},
   "outputs": [],
   "source": [
    "from torch.nn.utils.rnn import pad_sequence\n",
    "\n",
    "def collate_fn_pad(batch):\n",
    "    sequences, labels = zip(*batch)\n",
    "    # pad sequences to same length\n",
    "    padded_sequences = pad_sequence(sequences, batch_first=True)  # shape: (B, max_len, F)\n",
    "    labels = torch.stack(labels)\n",
    "    return padded_sequences, labels"
   ]
  },
  {
   "cell_type": "code",
   "execution_count": null,
   "id": "a0c9c1b8",
   "metadata": {},
   "outputs": [
    {
     "name": "stdout",
     "output_type": "stream",
     "text": [
      "Epoch 1: Loss = 0.6563, Accuracy = 0.5000\n",
      "Epoch 2: Loss = 0.6382, Accuracy = 0.5000\n",
      "Epoch 3: Loss = 0.6208, Accuracy = 0.5000\n",
      "Epoch 4: Loss = 0.6050, Accuracy = 0.5000\n",
      "Epoch 5: Loss = 0.5910, Accuracy = 0.5000\n",
      "Epoch 6: Loss = 0.5782, Accuracy = 0.5000\n",
      "Epoch 7: Loss = 0.5665, Accuracy = 0.5000\n",
      "Epoch 8: Loss = 0.5557, Accuracy = 0.5000\n",
      "Epoch 9: Loss = 0.5457, Accuracy = 0.5000\n",
      "Epoch 10: Loss = 0.5362, Accuracy = 0.5000\n",
      "Epoch 11: Loss = 0.5270, Accuracy = 0.5000\n",
      "Epoch 12: Loss = 0.5181, Accuracy = 1.0000\n",
      "Epoch 13: Loss = 0.5093, Accuracy = 1.0000\n",
      "Epoch 14: Loss = 0.5005, Accuracy = 1.0000\n",
      "Epoch 15: Loss = 0.4917, Accuracy = 1.0000\n",
      "Test Accuracy: 1.0000\n"
     ]
    }
   ],
   "source": [
    "train_dataset = CellSequenceDataset(X_train_seq, y_train_labels)\n",
    "train_loader = DataLoader(train_dataset, batch_size=4, shuffle=True, collate_fn=collate_fn_pad)\n",
    "\n",
    "test_dataset = CellSequenceDataset(X_test_seq, y_test_labels)\n",
    "test_loader = DataLoader(test_dataset, batch_size=4, shuffle=False, collate_fn=collate_fn_pad)\n",
    "\n",
    "model = CellLSTMClassifier()\n",
    "losses, accuracies = train_model(model, train_loader, epochs=15)\n",
    "evaluate_model(model, test_loader)"
   ]
  },
  {
   "cell_type": "markdown",
   "id": "a02350be",
   "metadata": {},
   "source": [
    "Evaluation"
   ]
  },
  {
   "cell_type": "code",
   "execution_count": 20,
   "id": "47f377ee",
   "metadata": {},
   "outputs": [
    {
     "data": {
      "image/png": "[encoded data removed]",
      "text/plain": [
       "<Figure size 1200x400 with 2 Axes>"
      ]
     },
     "metadata": {},
     "output_type": "display_data"
    }
   ],
   "source": [
    "import matplotlib.pyplot as plt\n",
    "\n",
    "plt.figure(figsize=(12, 4))\n",
    "\n",
    "plt.subplot(1, 2, 1)\n",
    "plt.plot(losses, label=\"Train Loss\")\n",
    "plt.xlabel(\"Epoch\")\n",
    "plt.ylabel(\"Loss\")\n",
    "plt.title(\"Training Loss\")\n",
    "plt.grid(True)\n",
    "\n",
    "plt.subplot(1, 2, 2)\n",
    "plt.plot(accuracies, label=\"Train Accuracy\")\n",
    "plt.xlabel(\"Epoch\")\n",
    "plt.ylabel(\"Accuracy\")\n",
    "plt.title(\"Training Accuracy\")\n",
    "plt.grid(True)\n",
    "\n",
    "plt.tight_layout()\n",
    "plt.show()"
   ]
  }
 ],
 "metadata": {
  "kernelspec": {
   "display_name": "base",
   "language": "python",
   "name": "python3"
  },
  "language_info": {
   "codemirror_mode": {
    "name": "ipython",
    "version": 3
   },
   "file_extension": ".py",
   "mimetype": "text/x-python",
   "name": "python",
   "nbconvert_exporter": "python",
   "pygments_lexer": "ipython3",
   "version": "3.11.7"
  }
 },
 "nbformat": 4,
 "nbformat_minor": 5
}
