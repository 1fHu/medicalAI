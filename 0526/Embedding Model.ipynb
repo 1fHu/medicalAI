{
 "cells": [
  {
   "cell_type": "code",
   "execution_count": 1,
   "id": "0bb28c7e",
   "metadata": {},
   "outputs": [],
   "source": [
    "import os\n",
    "import glob\n",
    "import shutil"
   ]
  },
  {
   "cell_type": "markdown",
   "id": "7192d3a0",
   "metadata": {},
   "source": [
    "Remove unneeded image"
   ]
  },
  {
   "cell_type": "code",
   "execution_count": null,
   "id": "2f812425",
   "metadata": {},
   "outputs": [],
   "source": [
    "def move_rgb_files(parent_folder):\n",
    "    \n",
    "    for subfolder in os.listdir(parent_folder):\n",
    "        subfolder_path = os.path.join(parent_folder, subfolder)\n",
    "        if os.path.isdir(subfolder_path):\n",
    "            color_folder = os.path.join(parent_folder, \"Colored\")\n",
    "\n",
    "            if not os.path.exists(color_folder):\n",
    "                os.makedirs(color_folder)\n",
    "\n",
    "\n",
    "            for filename in os.listdir(subfolder_path):\n",
    "                if 'RGB' in filename:\n",
    "                    source_file = os.path.join(subfolder_path, filename)\n",
    "                    dest_file = os.path.join(color_folder, filename)\n",
    "                    \n",
    "                    shutil.move(source_file, dest_file)\n",
    "                    # print(f\"moving: {filename} → {color_folder}\")\n",
    "\n",
    "    print(\"completed\")"
   ]
  },
  {
   "cell_type": "code",
   "execution_count": null,
   "id": "84faa540",
   "metadata": {},
   "outputs": [],
   "source": [
    "imageFolder = \"E:\\\\NYU\\\\pencreatic cancer AI\\\\0526\\\\NewData\"\n",
    "move_rgb_files(imageFolder)"
   ]
  },
  {
   "cell_type": "markdown",
   "id": "2a5c7eab",
   "metadata": {},
   "source": [
    "To see if the photo is the same as previous"
   ]
  },
  {
   "cell_type": "code",
   "execution_count": null,
   "id": "5555111b",
   "metadata": {},
   "outputs": [],
   "source": [
    "import cv2\n",
    "import numpy as np\n",
    "\n",
    "def dyeing_one_color(photo_address):\n",
    "    img = cv2.imread(photo_address)\n",
    "    gray = cv2.cvtColor(img, cv2.COLOR_BGR2GRAY)\n",
    "    lower_gray = 10\n",
    "    upper_gray = 50\n",
    "    mask = cv2.inRange(gray, lower_gray, upper_gray)\n",
    "\n",
    "    # colored_img = img.copy()\n",
    "    # colored_img[mask == 255] = [0, 0, 255]\n",
    "    \n",
    "    # cv2.imwrite('E:\\\\NYU\\\\pencreatic cancer AI\\\\others\\\\colored_output.png', colored_img)\n",
    "    # cv2.imshow('Result', colored_img)\n",
    "    # cv2.waitKey(0)\n",
    "    # cv2.destroyAllWindows()\n"
   ]
  },
  {
   "cell_type": "code",
   "execution_count": null,
   "id": "0cabc3ee",
   "metadata": {},
   "outputs": [],
   "source": [
    "img1 = dyeing_one_color(\"E:\\\\NYU\\\\pencreatic cancer AI\\\\0526\\\\NewData\\\\Images 0\\\\DiD-MSLN_NYU360_5 percent 20ms_T001_XY1.tif\")\n"
   ]
  },
  {
   "cell_type": "markdown",
   "id": "df904cf2",
   "metadata": {},
   "source": [
    "Extract features from one image"
   ]
  },
  {
   "cell_type": "code",
   "execution_count": 69,
   "id": "24b4fd28",
   "metadata": {},
   "outputs": [],
   "source": [
    "import matplotlib.pyplot as plt\n",
    "\n",
    "def extract_features(photo_address):\n",
    "    gray_img = cv2.imread(photo_address, cv2.IMREAD_GRAYSCALE)\n",
    "    _, binary_img = cv2.threshold(gray_img, 3, 255, cv2.THRESH_BINARY)\n",
    "    # plt.imshow(binary_img, cmap='gray')\n",
    "    # plt.title('Binary Image')\n",
    "    # plt.axis('off')\n",
    "    # plt.show()\n",
    "    \n",
    "    contours, _ = cv2.findContours(binary_img, cv2.RETR_EXTERNAL, cv2.CHAIN_APPROX_SIMPLE)\n",
    "    \n",
    "    one_img_trait = []\n",
    "    \n",
    "    for i, contour in enumerate(contours):\n",
    "        area = cv2.contourArea(contour)\n",
    "        perimeter = cv2.arcLength(contour, True)\n",
    "        circularity = (4 * np.pi * area) / (perimeter ** 2 + 1e-6)\n",
    "        \n",
    "        (x, y), radius = cv2.minEnclosingCircle(contour)\n",
    "        circle_area = np.pi * (radius ** 2)\n",
    "        \n",
    "        # brightness\n",
    "        contour_mask = np.zeros(gray_img.shape, dtype=np.uint8)\n",
    "        cv2.drawContours(contour_mask, [contour], -1, 255, -1)\n",
    "        mean_val = cv2.mean(gray_img, mask=contour_mask)[0]\n",
    "        \n",
    "        result = [area, perimeter, circularity, radius, circle_area, mean_val]\n",
    "        one_img_trait.append(result)\n",
    "    \n",
    "    results_array = np.array(one_img_trait)\n",
    "\n",
    "    return (results_array)    "
   ]
  },
  {
   "cell_type": "code",
   "execution_count": 33,
   "id": "c99dc123",
   "metadata": {},
   "outputs": [],
   "source": [
    "test_photo_add = \"E:\\\\NYU\\\\pencreatic cancer AI\\\\0526\\\\NewData\\\\Images 0\\\\DiD-MSLN_NYU360_5 percent 20ms_T001_XY1.tif\""
   ]
  },
  {
   "cell_type": "code",
   "execution_count": 70,
   "id": "33dd50da",
   "metadata": {},
   "outputs": [
    {
     "name": "stdout",
     "output_type": "stream",
     "text": [
      "246\n"
     ]
    }
   ],
   "source": [
    "arr = extract_features(test_photo_add)\n",
    "print(len(arr))"
   ]
  },
  {
   "cell_type": "code",
   "execution_count": 71,
   "id": "298ad79d",
   "metadata": {},
   "outputs": [],
   "source": [
    "def load_sequences(root_dir):\n",
    "    \"\"\"\n",
    "    Loads time-series feature sequences and labels\n",
    "    Expects: /NewData\n",
    "    Returns: X_seq, y_labels\n",
    "    \"\"\"\n",
    "    X_seq = []\n",
    "    y_labels = []\n",
    "\n",
    "\n",
    "    for class_name, label in [('Images 0', 0), ('Images 0.5', 0.5), ('Images 1', 1)]:\n",
    "        class_dir = os.path.join(root_dir, class_name)\n",
    "        image_files = (os.listdir(class_dir))\n",
    "        for each_img_name in image_files:\n",
    "            each_img = os.path.join(class_dir, each_img_name)\n",
    "\n",
    "            seq = extract_features(each_img)\n",
    "\n",
    "            if len(seq) > 0:\n",
    "                X_seq.append(seq)\n",
    "                y_labels.append(label)\n",
    "\n",
    "    return X_seq, y_labels"
   ]
  },
  {
   "cell_type": "code",
   "execution_count": 72,
   "id": "f879c2af",
   "metadata": {},
   "outputs": [
    {
     "name": "stdout",
     "output_type": "stream",
     "text": [
      "156\n"
     ]
    }
   ],
   "source": [
    "root_dir = \"E:\\\\NYU\\\\pencreatic cancer AI\\\\0526\\\\NewData\"\n",
    "X_train_seq, y_train_labels = load_sequences(root_dir)\n",
    "print(len(X_train_seq))"
   ]
  },
  {
   "cell_type": "code",
   "execution_count": null,
   "id": "329392ea",
   "metadata": {},
   "outputs": [],
   "source": [
    "print(len(y_train_labels))"
   ]
  },
  {
   "cell_type": "code",
   "execution_count": null,
   "id": "c85492d9",
   "metadata": {},
   "outputs": [
    {
     "ename": "ValueError",
     "evalue": "setting an array element with a sequence. The requested array has an inhomogeneous shape after 1 dimensions. The detected shape was (156,) + inhomogeneous part.",
     "output_type": "error",
     "traceback": [
      "\u001b[1;31m---------------------------------------------------------------------------\u001b[0m",
      "\u001b[1;31mValueError\u001b[0m                                Traceback (most recent call last)",
      "Cell \u001b[1;32mIn[73], line 1\u001b[0m\n\u001b[1;32m----> 1\u001b[0m X_train_seq \u001b[38;5;241m=\u001b[39m np\u001b[38;5;241m.\u001b[39marray(X_train_seq)\n\u001b[0;32m      2\u001b[0m y_train_labels \u001b[38;5;241m=\u001b[39m np\u001b[38;5;241m.\u001b[39marray(y_train_labels)\n\u001b[0;32m      3\u001b[0m \u001b[38;5;28mprint\u001b[39m(\u001b[38;5;28mlen\u001b[39m(y_train_labels))\n",
      "\u001b[1;31mValueError\u001b[0m: setting an array element with a sequence. The requested array has an inhomogeneous shape after 1 dimensions. The detected shape was (156,) + inhomogeneous part."
     ]
    }
   ],
   "source": [
    "X_train_seq = np.array(X_train_seq)\n",
    "y_train_labels = np.array(y_train_labels)\n"
   ]
  },
  {
   "cell_type": "code",
   "execution_count": 68,
   "id": "6dc5b048",
   "metadata": {},
   "outputs": [
    {
     "name": "stdout",
     "output_type": "stream",
     "text": [
      "246\n",
      "72\n",
      "109\n",
      "187\n",
      "39\n",
      "76\n",
      "85\n",
      "238\n",
      "71\n",
      "104\n",
      "199\n",
      "55\n",
      "83\n",
      "87\n",
      "255\n",
      "80\n",
      "109\n",
      "184\n",
      "54\n",
      "75\n",
      "92\n",
      "265\n",
      "75\n",
      "111\n",
      "191\n",
      "49\n",
      "71\n",
      "91\n",
      "240\n",
      "83\n",
      "105\n",
      "184\n",
      "51\n",
      "76\n",
      "99\n",
      "238\n",
      "81\n",
      "111\n",
      "181\n",
      "51\n",
      "73\n",
      "88\n",
      "240\n",
      "76\n",
      "125\n",
      "161\n",
      "52\n",
      "79\n",
      "87\n",
      "245\n",
      "80\n",
      "111\n",
      "26\n",
      "99\n",
      "105\n",
      "3\n",
      "155\n",
      "24\n",
      "91\n",
      "96\n",
      "3\n",
      "146\n",
      "22\n",
      "91\n",
      "108\n",
      "3\n",
      "156\n",
      "21\n",
      "92\n",
      "103\n",
      "3\n",
      "152\n",
      "20\n",
      "87\n",
      "110\n",
      "3\n",
      "153\n",
      "20\n",
      "86\n",
      "102\n",
      "3\n",
      "147\n",
      "22\n",
      "85\n",
      "105\n",
      "3\n",
      "151\n",
      "29\n",
      "82\n",
      "102\n",
      "3\n",
      "159\n",
      "26\n",
      "83\n",
      "101\n",
      "3\n",
      "149\n",
      "25\n",
      "86\n",
      "105\n",
      "3\n",
      "151\n",
      "28\n",
      "83\n",
      "4\n",
      "2\n",
      "3\n",
      "1\n",
      "13\n",
      "4\n",
      "3\n",
      "5\n",
      "2\n",
      "4\n",
      "3\n",
      "12\n",
      "4\n",
      "3\n",
      "4\n",
      "3\n",
      "4\n",
      "1\n",
      "12\n",
      "4\n",
      "3\n",
      "3\n",
      "3\n",
      "4\n",
      "1\n",
      "16\n",
      "4\n",
      "3\n",
      "5\n",
      "2\n",
      "5\n",
      "1\n",
      "12\n",
      "4\n",
      "2\n",
      "4\n",
      "2\n",
      "6\n",
      "1\n",
      "10\n",
      "5\n",
      "3\n",
      "4\n",
      "2\n",
      "6\n",
      "1\n",
      "19\n",
      "5\n",
      "2\n",
      "4\n",
      "3\n",
      "5\n"
     ]
    }
   ],
   "source": [
    "for each in (X_train_seq):\n",
    "    print(len(each))"
   ]
  },
  {
   "cell_type": "code",
   "execution_count": 74,
   "id": "50c36785",
   "metadata": {},
   "outputs": [],
   "source": [
    "# making the input with same length\n",
    "\n",
    "def padding(list_of_arrays):\n",
    "    max_rows = max(arr.shape[0] for arr in list_of_arrays)\n",
    "    max_cols = max(arr.shape[1] for arr in list_of_arrays)\n",
    "    def pad_array(array, target_rows, target_cols):\n",
    "        padded = np.zeros((target_rows, target_cols))\n",
    "        padded[:array.shape[0], :array.shape[1]] = array\n",
    "        return padded\n",
    "    \n",
    "    padded_arrays = [pad_array(arr, max_rows, max_cols) for arr in list_of_arrays]\n",
    "    \n",
    "    padded_batch = np.stack(padded_arrays)\n",
    "    print(f\"batch shape: {padded_batch.shape}\")"
   ]
  },
  {
   "cell_type": "code",
   "execution_count": 75,
   "id": "1a895b5d",
   "metadata": {},
   "outputs": [
    {
     "name": "stdout",
     "output_type": "stream",
     "text": [
      "batch shape: (156, 265, 6)\n"
     ]
    }
   ],
   "source": [
    "padding(X_train_seq)"
   ]
  },
  {
   "cell_type": "code",
   "execution_count": 76,
   "id": "3c7b399c",
   "metadata": {},
   "outputs": [],
   "source": [
    "y_train_labels = np.array(y_train_labels)"
   ]
  },
  {
   "cell_type": "code",
   "execution_count": null,
   "id": "7ed092a1",
   "metadata": {},
   "outputs": [],
   "source": []
  }
 ],
 "metadata": {
  "kernelspec": {
   "display_name": "base",
   "language": "python",
   "name": "python3"
  },
  "language_info": {
   "codemirror_mode": {
    "name": "ipython",
    "version": 3
   },
   "file_extension": ".py",
   "mimetype": "text/x-python",
   "name": "python",
   "nbconvert_exporter": "python",
   "pygments_lexer": "ipython3",
   "version": "3.11.7"
  }
 },
 "nbformat": 4,
 "nbformat_minor": 5
}
